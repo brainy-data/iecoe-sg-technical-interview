{
 "cells": [
  {
   "cell_type": "code",
   "execution_count": 238,
   "metadata": {
    "colab": {
     "base_uri": "https://localhost:8080/"
    },
    "id": "70igPTI4AAdo",
    "outputId": "fecfbe3f-5bad-4264-95d4-1c5de1b5221c"
   },
   "outputs": [
    {
     "name": "stdout",
     "output_type": "stream",
     "text": [
      "Downloading...\n",
      "From: https://drive.google.com/uc?id=1L5o2fVXibffuzWepsKljbO8KfEgdixjY\n",
      "To: /content/Fake.csv\n",
      "62.8MB [00:00, 172MB/s] \n",
      "Downloading...\n",
      "From: https://drive.google.com/uc?id=11LL7r7YePq_lpa_14z4DDb68TVRM0E2w\n",
      "To: /content/True.csv\n",
      "53.6MB [00:00, 202MB/s]\n"
     ]
    }
   ],
   "source": [
    "#import csv\n",
    "#this part was done on Google Colab\n",
    "!gdown --id 1L5o2fVXibffuzWepsKljbO8KfEgdixjY\n",
    "!gdown --id 11LL7r7YePq_lpa_14z4DDb68TVRM0E2w"
   ]
  },
  {
   "cell_type": "markdown",
   "metadata": {
    "id": "H-Gi-hgy5n9-"
   },
   "source": [
    "# Library and Data Import"
   ]
  },
  {
   "cell_type": "code",
   "execution_count": 239,
   "metadata": {
    "colab": {
     "base_uri": "https://localhost:8080/"
    },
    "id": "XU02sc8b5n-O",
    "outputId": "19ec4e02-074a-4039-b7d5-6d3435554c80"
   },
   "outputs": [
    {
     "name": "stdout",
     "output_type": "stream",
     "text": [
      "[nltk_data] Downloading package punkt to /root/nltk_data...\n",
      "[nltk_data]   Package punkt is already up-to-date!\n",
      "[nltk_data] Downloading package stopwords to /root/nltk_data...\n",
      "[nltk_data]   Package stopwords is already up-to-date!\n",
      "[nltk_data] Downloading package wordnet to /root/nltk_data...\n",
      "[nltk_data]   Package wordnet is already up-to-date!\n",
      "[nltk_data] Downloading package words to /root/nltk_data...\n",
      "[nltk_data]   Package words is already up-to-date!\n"
     ]
    }
   ],
   "source": [
    "# Library Import\n",
    "\n",
    "import gensim\n",
    "import keras\n",
    "import lightgbm as lgb\n",
    "import matplotlib.pyplot as plt\n",
    "import nltk\n",
    "import numpy as np\n",
    "import pandas as pd\n",
    "import re\n",
    "import seaborn as sns\n",
    "import tensorflow as tf\n",
    "import tensorflow_hub as hub\n",
    "\n",
    "\n",
    "from keras.preprocessing import text, sequence\n",
    "from keras.models import Sequential\n",
    "from keras.layers import Dense,Embedding,LSTM,Dropout,Bidirectional,GRU\n",
    "from keras.layers import Input, GlobalMaxPooling1D, LSTM\n",
    "from keras.layers import Conv1D, MaxPooling1D,Activation, Flatten\n",
    "\n",
    "from nltk.corpus import stopwords\n",
    "from nltk.tokenize import word_tokenize\n",
    "from nltk.stem import WordNetLemmatizer\n",
    "\n",
    "from sklearn import metrics\n",
    "from sklearn.feature_extraction.text import TfidfVectorizer\n",
    "from sklearn.metrics import confusion_matrix\n",
    "from sklearn.metrics import classification_report\n",
    "from sklearn.model_selection import train_test_split\n",
    "from tensorflow.keras import layers\n",
    "\n",
    "nltk.download('punkt')\n",
    "nltk.download('stopwords')\n",
    "nltk.download('wordnet')\n",
    "nltk.download('words')\n",
    "wordnet_lemmatizer = WordNetLemmatizer()"
   ]
  },
  {
   "cell_type": "code",
   "execution_count": 240,
   "metadata": {
    "id": "_MjiYrK05n-R"
   },
   "outputs": [],
   "source": [
    "# Data Load\n",
    "real_news = pd.read_csv('True.csv')\n",
    "fake_news = pd.read_csv('Fake.csv')"
   ]
  },
  {
   "cell_type": "code",
   "execution_count": 241,
   "metadata": {
    "colab": {
     "base_uri": "https://localhost:8080/"
    },
    "id": "Dfn0I5R-5n-S",
    "outputId": "351701b2-2dbf-4ba1-851d-870234217cf8"
   },
   "outputs": [
    {
     "data": {
      "text/plain": [
       "((21417, 4), (23481, 4))"
      ]
     },
     "execution_count": 241,
     "metadata": {
      "tags": []
     },
     "output_type": "execute_result"
    }
   ],
   "source": [
    "real_news.shape, fake_news.shape"
   ]
  },
  {
   "cell_type": "markdown",
   "metadata": {
    "id": "i_hQyirn5n-S"
   },
   "source": [
    "Here we noted that there are more than 20k real news articles and fake news articles.\n",
    "<br>\n",
    "It could be considered as a rather balanced dataset."
   ]
  },
  {
   "cell_type": "code",
   "execution_count": 242,
   "metadata": {
    "colab": {
     "base_uri": "https://localhost:8080/",
     "height": 204
    },
    "id": "w-ignp7F5n-T",
    "outputId": "36857e60-9d47-4b90-ba8b-abcbe370e9eb"
   },
   "outputs": [
    {
     "data": {
      "text/html": [
       "<div>\n",
       "<style scoped>\n",
       "    .dataframe tbody tr th:only-of-type {\n",
       "        vertical-align: middle;\n",
       "    }\n",
       "\n",
       "    .dataframe tbody tr th {\n",
       "        vertical-align: top;\n",
       "    }\n",
       "\n",
       "    .dataframe thead th {\n",
       "        text-align: right;\n",
       "    }\n",
       "</style>\n",
       "<table border=\"1\" class=\"dataframe\">\n",
       "  <thead>\n",
       "    <tr style=\"text-align: right;\">\n",
       "      <th></th>\n",
       "      <th>title</th>\n",
       "      <th>text</th>\n",
       "      <th>subject</th>\n",
       "      <th>date</th>\n",
       "    </tr>\n",
       "  </thead>\n",
       "  <tbody>\n",
       "    <tr>\n",
       "      <th>0</th>\n",
       "      <td>As U.S. budget fight looms, Republicans flip t...</td>\n",
       "      <td>WASHINGTON (Reuters) - The head of a conservat...</td>\n",
       "      <td>politicsNews</td>\n",
       "      <td>December 31, 2017</td>\n",
       "    </tr>\n",
       "    <tr>\n",
       "      <th>1</th>\n",
       "      <td>U.S. military to accept transgender recruits o...</td>\n",
       "      <td>WASHINGTON (Reuters) - Transgender people will...</td>\n",
       "      <td>politicsNews</td>\n",
       "      <td>December 29, 2017</td>\n",
       "    </tr>\n",
       "    <tr>\n",
       "      <th>2</th>\n",
       "      <td>Senior U.S. Republican senator: 'Let Mr. Muell...</td>\n",
       "      <td>WASHINGTON (Reuters) - The special counsel inv...</td>\n",
       "      <td>politicsNews</td>\n",
       "      <td>December 31, 2017</td>\n",
       "    </tr>\n",
       "    <tr>\n",
       "      <th>3</th>\n",
       "      <td>FBI Russia probe helped by Australian diplomat...</td>\n",
       "      <td>WASHINGTON (Reuters) - Trump campaign adviser ...</td>\n",
       "      <td>politicsNews</td>\n",
       "      <td>December 30, 2017</td>\n",
       "    </tr>\n",
       "    <tr>\n",
       "      <th>4</th>\n",
       "      <td>Trump wants Postal Service to charge 'much mor...</td>\n",
       "      <td>SEATTLE/WASHINGTON (Reuters) - President Donal...</td>\n",
       "      <td>politicsNews</td>\n",
       "      <td>December 29, 2017</td>\n",
       "    </tr>\n",
       "  </tbody>\n",
       "</table>\n",
       "</div>"
      ],
      "text/plain": [
       "                                               title  ...                date\n",
       "0  As U.S. budget fight looms, Republicans flip t...  ...  December 31, 2017 \n",
       "1  U.S. military to accept transgender recruits o...  ...  December 29, 2017 \n",
       "2  Senior U.S. Republican senator: 'Let Mr. Muell...  ...  December 31, 2017 \n",
       "3  FBI Russia probe helped by Australian diplomat...  ...  December 30, 2017 \n",
       "4  Trump wants Postal Service to charge 'much mor...  ...  December 29, 2017 \n",
       "\n",
       "[5 rows x 4 columns]"
      ]
     },
     "execution_count": 242,
     "metadata": {
      "tags": []
     },
     "output_type": "execute_result"
    }
   ],
   "source": [
    "real_news.head()"
   ]
  },
  {
   "cell_type": "markdown",
   "metadata": {
    "id": "RvbqbCvw5n-T"
   },
   "source": [
    "# Data Pre-processing"
   ]
  },
  {
   "cell_type": "code",
   "execution_count": 243,
   "metadata": {
    "id": "OJOqg5iT5n-U"
   },
   "outputs": [],
   "source": [
    "# assign the label of fakes news to the dataset\n",
    "# 'is_fake'= 1 for fake news articles and ‘is_fake' =0 for real news articles\n",
    "\n",
    "real_news['is_fake'] = 0\n",
    "fake_news['is_fake'] = 1\n",
    "\n",
    "# Hence we concat these two dataframes\n",
    "all_news = real_news.append(fake_news,  ignore_index=True)"
   ]
  },
  {
   "cell_type": "markdown",
   "metadata": {
    "id": "YdD-VAal5n-U"
   },
   "source": [
    "The Kaggle Blog over here points out the problem of data leakage in this dataset.\n",
    "https://www.kaggle.com/mosewintner/5-data-leaks-100-acc-1-word-99-6-acc/comments (for more details)\n",
    "<br>\n",
    "The problems inlcude the presence of the string (Reuters)in text column,the distribution of subject and the date itself and URLs in date column. \n",
    "<br>\n",
    "In order to have a more fair dataset setting, here in this dataset we would drop the subject and date column as well as removing the word (Reuters) in the text."
   ]
  },
  {
   "cell_type": "code",
   "execution_count": 244,
   "metadata": {
    "id": "pmaZGtS65n-V"
   },
   "outputs": [],
   "source": [
    "# Drop the column of subject and date as per the reason stated above\n",
    "all_news = all_news.drop(columns=['subject', 'date'])\n",
    "\n",
    "#Also, we want to remove the presence of string '(Reuters)'\n",
    "all_news['text'] = all_news['text'].str.replace('\\(Reuters\\)', '')\n"
   ]
  },
  {
   "cell_type": "code",
   "execution_count": 245,
   "metadata": {
    "colab": {
     "base_uri": "https://localhost:8080/"
    },
    "id": "pUx0kWTI5n-V",
    "outputId": "70b42de6-726c-4bbe-fb29-805f390c322b"
   },
   "outputs": [
    {
     "data": {
      "text/plain": [
       "(44898, 3)"
      ]
     },
     "execution_count": 245,
     "metadata": {
      "tags": []
     },
     "output_type": "execute_result"
    }
   ],
   "source": [
    "all_news.shape"
   ]
  },
  {
   "cell_type": "markdown",
   "metadata": {
    "id": "_TexQHVr5n-W"
   },
   "source": [
    "Here we propose to have 3 different models for this binary text-classfication:\n",
    "<br>\n",
    "1. TF-iDF processing + LightGBM\n",
    "2. word2vec processing + CNN\n",
    "3. word2vec processing + CNN LSTM"
   ]
  },
  {
   "cell_type": "code",
   "execution_count": 246,
   "metadata": {
    "id": "qLMmdJ2w5n-W"
   },
   "outputs": [],
   "source": [
    "#Define a function to conduct common word-preprocessing operations (e.g. lowercase, remove stopwords and remove punctuationetc.)\n",
    "#Convert X to format accepatable to further processing\n",
    "#This function is referenced from https://www.kaggle.com/rahulkumarpatro/fake-vs-real-news-classification-lstm-word2vec\n",
    "\n",
    "def get_cleaned_data(input_data, mode='df'):\n",
    "    stop = stopwords.words('english')\n",
    "    \n",
    "    input_df = ''\n",
    "    \n",
    "    if mode != 'df':\n",
    "        input_df = pd.DataFrame([input_data], columns=['text'])\n",
    "    else:\n",
    "        input_df = input_data       \n",
    "    #lowercase the text\n",
    "    input_df['text'] = input_df['text'].str.lower()    \n",
    "    #remove special characters\n",
    "    input_df['text'] = input_df['text'].apply(lambda elem: re.sub(r\"(@[A-Za-z0-9]+)|([^0-9A-Za-z \\t])|(\\w+:\\/\\/\\S+)|^rt|http.+?\", \"\", elem))    \n",
    "    # remove numbers\n",
    "    input_df['text'] = input_df['text'].apply(lambda elem: re.sub(r\"\\d+\", \"\", elem))    \n",
    "    #remove stopwords\n",
    "    input_df['text'] = input_df['text'].apply(lambda x: ' '.join([word.strip() for word in x.split() if word not in (stop)]))\n",
    "    \n",
    "    input_df['text'] = input_df['text'].apply(lambda words: (wordnet_lemmatizer.lemmatize(words)))\n",
    "    \n",
    "    return input_df"
   ]
  },
  {
   "cell_type": "code",
   "execution_count": 247,
   "metadata": {
    "id": "QHgyoDkE5n-X"
   },
   "outputs": [],
   "source": [
    "all_news = get_cleaned_data(all_news)"
   ]
  },
  {
   "cell_type": "code",
   "execution_count": 248,
   "metadata": {
    "colab": {
     "base_uri": "https://localhost:8080/",
     "height": 142
    },
    "id": "XQ_DsnSt5n-X",
    "outputId": "59bc5997-3731-4d8c-802e-565c7a8b1fd6"
   },
   "outputs": [
    {
     "data": {
      "text/html": [
       "<div>\n",
       "<style scoped>\n",
       "    .dataframe tbody tr th:only-of-type {\n",
       "        vertical-align: middle;\n",
       "    }\n",
       "\n",
       "    .dataframe tbody tr th {\n",
       "        vertical-align: top;\n",
       "    }\n",
       "\n",
       "    .dataframe thead th {\n",
       "        text-align: right;\n",
       "    }\n",
       "</style>\n",
       "<table border=\"1\" class=\"dataframe\">\n",
       "  <thead>\n",
       "    <tr style=\"text-align: right;\">\n",
       "      <th></th>\n",
       "      <th>title</th>\n",
       "      <th>text</th>\n",
       "      <th>is_fake</th>\n",
       "    </tr>\n",
       "  </thead>\n",
       "  <tbody>\n",
       "    <tr>\n",
       "      <th>0</th>\n",
       "      <td>As U.S. budget fight looms, Republicans flip t...</td>\n",
       "      <td>washington head conservative republican factio...</td>\n",
       "      <td>0</td>\n",
       "    </tr>\n",
       "    <tr>\n",
       "      <th>1</th>\n",
       "      <td>U.S. military to accept transgender recruits o...</td>\n",
       "      <td>washington transgender people allowed first ti...</td>\n",
       "      <td>0</td>\n",
       "    </tr>\n",
       "    <tr>\n",
       "      <th>2</th>\n",
       "      <td>Senior U.S. Republican senator: 'Let Mr. Muell...</td>\n",
       "      <td>washington special counsel investigation links...</td>\n",
       "      <td>0</td>\n",
       "    </tr>\n",
       "  </tbody>\n",
       "</table>\n",
       "</div>"
      ],
      "text/plain": [
       "                                               title  ... is_fake\n",
       "0  As U.S. budget fight looms, Republicans flip t...  ...       0\n",
       "1  U.S. military to accept transgender recruits o...  ...       0\n",
       "2  Senior U.S. Republican senator: 'Let Mr. Muell...  ...       0\n",
       "\n",
       "[3 rows x 3 columns]"
      ]
     },
     "execution_count": 248,
     "metadata": {
      "tags": []
     },
     "output_type": "execute_result"
    }
   ],
   "source": [
    "all_news.head(3)"
   ]
  },
  {
   "cell_type": "markdown",
   "metadata": {
    "id": "eQ2Dc2b15n-Z"
   },
   "source": [
    "# Model 1 (TF-iDF + LightGBM)"
   ]
  },
  {
   "cell_type": "code",
   "execution_count": 249,
   "metadata": {
    "colab": {
     "base_uri": "https://localhost:8080/"
    },
    "id": "S9R7n0_85n-Z",
    "outputId": "13f98875-923c-450d-f9d8-591ae3e809c6"
   },
   "outputs": [
    {
     "name": "stdout",
     "output_type": "stream",
     "text": [
      "CPU times: user 53.2 s, sys: 1.55 s, total: 54.8 s\n",
      "Wall time: 54.9 s\n"
     ]
    }
   ],
   "source": [
    "%%time\n",
    "#create the tfidf-vectorizer\n",
    "tfidf = TfidfVectorizer(strip_accents='ascii', ngram_range=(1,2), max_features=1000)\n",
    "\n",
    "X_text = tfidf.fit_transform(all_news['text'])\n",
    "y = all_news.is_fake"
   ]
  },
  {
   "cell_type": "code",
   "execution_count": 250,
   "metadata": {
    "id": "mEj3FxVd5n-Z"
   },
   "outputs": [],
   "source": [
    "#Train-Test Split\n",
    "train_x, test_x, train_y, test_y = train_test_split(X_text, y, test_size=.2, random_state=42)\n",
    "#Train-validation Split  (train-70%, validation 10% and test 20%)\n",
    "train_x, val_x, train_y, val_y = train_test_split(train_x, train_y, test_size=.125, random_state=42)"
   ]
  },
  {
   "cell_type": "code",
   "execution_count": 251,
   "metadata": {
    "colab": {
     "base_uri": "https://localhost:8080/"
    },
    "id": "z8IQglv_5n-a",
    "outputId": "1f3ec9d2-36cf-43a8-e27c-582387bbf21e"
   },
   "outputs": [
    {
     "name": "stdout",
     "output_type": "stream",
     "text": [
      "Training until validation scores don't improve for 100 rounds.\n",
      "[100]\tvalid_0's binary_logloss: 0.115979\n",
      "Did not meet early stopping. Best iteration is:\n",
      "[100]\tvalid_0's binary_logloss: 0.115979\n",
      "CPU times: user 44.3 s, sys: 929 ms, total: 45.2 s\n",
      "Wall time: 25.8 s\n"
     ]
    }
   ],
   "source": [
    "%%time\n",
    "# LightGBM parameter\n",
    "parameters = {'num_leaves':20, 'max_depth':8,\n",
    "              'objective':'binary', 'metric':'logloss',\n",
    "              'learning_rate':0.05, 'n_jobs': -1,\n",
    "              'n_estimators':100}\n",
    "\n",
    "# LightGBM model\n",
    "lgb_model = lgb.LGBMClassifier(**parameters)\n",
    "\n",
    "lgb_model.fit(train_x, train_y, eval_set=[(val_x, val_y)],\n",
    "             early_stopping_rounds=100, eval_metric='logloss', verbose=100)"
   ]
  },
  {
   "cell_type": "code",
   "execution_count": 252,
   "metadata": {
    "id": "lMAaCZFP5n-a"
   },
   "outputs": [],
   "source": [
    "#Prediction\n",
    "predict_lgb = lgb_model.predict(test_x)"
   ]
  },
  {
   "cell_type": "code",
   "execution_count": 253,
   "metadata": {
    "colab": {
     "base_uri": "https://localhost:8080/"
    },
    "id": "aEdwuoo25n-a",
    "outputId": "6611ba74-34ad-4066-b21b-b77a27000223"
   },
   "outputs": [
    {
     "name": "stdout",
     "output_type": "stream",
     "text": [
      "              precision    recall  f1-score   support\n",
      "\n",
      "           0       0.96      0.97      0.97      4330\n",
      "           1       0.97      0.96      0.97      4650\n",
      "\n",
      "    accuracy                           0.97      8980\n",
      "   macro avg       0.97      0.97      0.97      8980\n",
      "weighted avg       0.97      0.97      0.97      8980\n",
      "\n"
     ]
    }
   ],
   "source": [
    "print(classification_report(test_y, predict_lgb))"
   ]
  },
  {
   "cell_type": "markdown",
   "metadata": {
    "id": "ZJQdn3qm5n-X"
   },
   "source": [
    "# Model 2 (word2vec + CNN)"
   ]
  },
  {
   "cell_type": "code",
   "execution_count": 254,
   "metadata": {
    "colab": {
     "base_uri": "https://localhost:8080/",
     "height": 204
    },
    "id": "NJT_x_i9Mhrw",
    "outputId": "d70db329-aa9c-498d-d28a-25bcf0bd552f"
   },
   "outputs": [
    {
     "data": {
      "text/html": [
       "<div>\n",
       "<style scoped>\n",
       "    .dataframe tbody tr th:only-of-type {\n",
       "        vertical-align: middle;\n",
       "    }\n",
       "\n",
       "    .dataframe tbody tr th {\n",
       "        vertical-align: top;\n",
       "    }\n",
       "\n",
       "    .dataframe thead th {\n",
       "        text-align: right;\n",
       "    }\n",
       "</style>\n",
       "<table border=\"1\" class=\"dataframe\">\n",
       "  <thead>\n",
       "    <tr style=\"text-align: right;\">\n",
       "      <th></th>\n",
       "      <th>title</th>\n",
       "      <th>text</th>\n",
       "      <th>is_fake</th>\n",
       "    </tr>\n",
       "  </thead>\n",
       "  <tbody>\n",
       "    <tr>\n",
       "      <th>0</th>\n",
       "      <td>As U.S. budget fight looms, Republicans flip t...</td>\n",
       "      <td>washington head conservative republican factio...</td>\n",
       "      <td>0</td>\n",
       "    </tr>\n",
       "    <tr>\n",
       "      <th>1</th>\n",
       "      <td>U.S. military to accept transgender recruits o...</td>\n",
       "      <td>washington transgender people allowed first ti...</td>\n",
       "      <td>0</td>\n",
       "    </tr>\n",
       "    <tr>\n",
       "      <th>2</th>\n",
       "      <td>Senior U.S. Republican senator: 'Let Mr. Muell...</td>\n",
       "      <td>washington special counsel investigation links...</td>\n",
       "      <td>0</td>\n",
       "    </tr>\n",
       "    <tr>\n",
       "      <th>3</th>\n",
       "      <td>FBI Russia probe helped by Australian diplomat...</td>\n",
       "      <td>washington trump campaign adviser george papad...</td>\n",
       "      <td>0</td>\n",
       "    </tr>\n",
       "    <tr>\n",
       "      <th>4</th>\n",
       "      <td>Trump wants Postal Service to charge 'much mor...</td>\n",
       "      <td>seattlewashington president donald trump calle...</td>\n",
       "      <td>0</td>\n",
       "    </tr>\n",
       "  </tbody>\n",
       "</table>\n",
       "</div>"
      ],
      "text/plain": [
       "                                               title  ... is_fake\n",
       "0  As U.S. budget fight looms, Republicans flip t...  ...       0\n",
       "1  U.S. military to accept transgender recruits o...  ...       0\n",
       "2  Senior U.S. Republican senator: 'Let Mr. Muell...  ...       0\n",
       "3  FBI Russia probe helped by Australian diplomat...  ...       0\n",
       "4  Trump wants Postal Service to charge 'much mor...  ...       0\n",
       "\n",
       "[5 rows x 3 columns]"
      ]
     },
     "execution_count": 254,
     "metadata": {
      "tags": []
     },
     "output_type": "execute_result"
    }
   ],
   "source": [
    "all_news.head()"
   ]
  },
  {
   "cell_type": "code",
   "execution_count": 255,
   "metadata": {
    "id": "7RTT3mdq5n-Z"
   },
   "outputs": [],
   "source": [
    "words = []\n",
    "\n",
    "for i in all_news.text.values:\n",
    "    words.append(i.split())"
   ]
  },
  {
   "cell_type": "code",
   "execution_count": 256,
   "metadata": {
    "colab": {
     "base_uri": "https://localhost:8080/"
    },
    "id": "H9iC6d2iUrVS",
    "outputId": "d185e923-46b6-4585-a052-6a469f6bea54"
   },
   "outputs": [
    {
     "name": "stdout",
     "output_type": "stream",
     "text": [
      "CPU times: user 5min 12s, sys: 2.01 s, total: 5min 14s\n",
      "Wall time: 3min 4s\n"
     ]
    }
   ],
   "source": [
    "%%time\n",
    "# To generate 200 Dimension of vectors \n",
    "EMBEDDING_DIM = 200\n",
    "\n",
    "#Creating Word Vectors by Word2Vec Method\n",
    "w2v_model = gensim.models.Word2Vec(sentences = words , size=EMBEDDING_DIM , window = 5 , min_count = 1)"
   ]
  },
  {
   "cell_type": "code",
   "execution_count": 257,
   "metadata": {
    "colab": {
     "base_uri": "https://localhost:8080/"
    },
    "id": "AtZ2P4P1YpDh",
    "outputId": "571c8538-abb0-49ce-a689-0de689d71b03"
   },
   "outputs": [
    {
     "data": {
      "text/plain": [
       "202249"
      ]
     },
     "execution_count": 257,
     "metadata": {
      "tags": []
     },
     "output_type": "execute_result"
    }
   ],
   "source": [
    "len(w2v_model.wv.vocab)"
   ]
  },
  {
   "cell_type": "code",
   "execution_count": 258,
   "metadata": {
    "colab": {
     "base_uri": "https://localhost:8080/"
    },
    "id": "c1q9v3Do1eib",
    "outputId": "e9f8c388-330f-4214-ca02-25fdaa642b7c"
   },
   "outputs": [
    {
     "name": "stderr",
     "output_type": "stream",
     "text": [
      "/usr/local/lib/python3.7/dist-packages/ipykernel_launcher.py:23: DeprecationWarning: Call to deprecated `__getitem__` (Method will be removed in 4.0.0, use self.wv.__getitem__() instead).\n"
     ]
    },
    {
     "name": "stdout",
     "output_type": "stream",
     "text": [
      "CPU times: user 18.3 s, sys: 594 ms, total: 18.9 s\n",
      "Wall time: 19 s\n"
     ]
    }
   ],
   "source": [
    "%%time\n",
    "MAX_SEQUENCE_LENGTH = 500\n",
    "\n",
    "tokenizer = text.Tokenizer(num_words=35000)\n",
    "tokenizer.fit_on_texts(words)\n",
    "tokenized_train = tokenizer.texts_to_sequences(words)\n",
    "x = sequence.pad_sequences(tokenized_train, maxlen = MAX_SEQUENCE_LENGTH)\n",
    "\n",
    "\n",
    "\n",
    "# Embedding Layer creates one more vector for \"UNKNOWN\" words. \n",
    "# This Vector is filled with zeros.\n",
    "# Thus the vocab size is increased by 1\n",
    "vocab_size = len(tokenizer.word_index) + 1\n",
    "\n",
    "# To create weight matrix from word2vec gensim model\n",
    "def get_weight_matrix(model, vocab):\n",
    "    # total vocabulary size plus 0 for unknown words\n",
    "    vocab_size = len(vocab) + 1\n",
    "    # define weight matrix dimensions with all 0\n",
    "    weight_matrix = np.zeros((vocab_size, EMBEDDING_DIM))\n",
    "    # step vocab, store vectors using the Tokenizer's integer mapping\n",
    "    for word, i in vocab.items():\n",
    "        weight_matrix[i] = model[word]\n",
    "    return weight_matrix\n",
    "\n",
    "#Getting embedding vectors from word2vec and using the vectors as weights for later embedding \n",
    "embedding_vectors = get_weight_matrix(w2v_model, tokenizer.word_index)"
   ]
  },
  {
   "cell_type": "code",
   "execution_count": 259,
   "metadata": {
    "id": "NlLv88jO17V0"
   },
   "outputs": [],
   "source": [
    "#Set up the CNN\n",
    "cnn_model = Sequential()\n",
    "cnn_model.add(Embedding(vocab_size, output_dim=EMBEDDING_DIM, weights=[embedding_vectors], input_length=MAX_SEQUENCE_LENGTH, trainable=False))\n",
    "cnn_model.add(Conv1D(filters=128, kernel_size=5, activation='relu'))\n",
    "cnn_model.add(MaxPooling1D(4))\n",
    "cnn_model.add(Dropout(0.3))\n",
    "cnn_model.add(Conv1D(filters=64, kernel_size=5, activation='relu'))\n",
    "cnn_model.add(MaxPooling1D(4))\n",
    "cnn_model.add(Dropout(0.3))\n",
    "cnn_model.add(Flatten())\n",
    "cnn_model.add(Dense(units = 128 , activation = 'relu'))\n",
    "cnn_model.add(Dense(1, activation='sigmoid'))\n",
    "cnn_model.compile(optimizer='adam', loss='binary_crossentropy', metrics=['accuracy'])"
   ]
  },
  {
   "cell_type": "code",
   "execution_count": 260,
   "metadata": {
    "colab": {
     "base_uri": "https://localhost:8080/"
    },
    "id": "8f4fhEzGZXAx",
    "outputId": "dcb9e151-bf62-44ff-c352-8ff9a62b8efa"
   },
   "outputs": [
    {
     "name": "stdout",
     "output_type": "stream",
     "text": [
      "Model: \"sequential_15\"\n",
      "_________________________________________________________________\n",
      "Layer (type)                 Output Shape              Param #   \n",
      "=================================================================\n",
      "embedding_14 (Embedding)     (None, 500, 200)          40450000  \n",
      "_________________________________________________________________\n",
      "conv1d_19 (Conv1D)           (None, 496, 128)          128128    \n",
      "_________________________________________________________________\n",
      "max_pooling1d_17 (MaxPooling (None, 124, 128)          0         \n",
      "_________________________________________________________________\n",
      "dropout_12 (Dropout)         (None, 124, 128)          0         \n",
      "_________________________________________________________________\n",
      "conv1d_20 (Conv1D)           (None, 120, 64)           41024     \n",
      "_________________________________________________________________\n",
      "max_pooling1d_18 (MaxPooling (None, 30, 64)            0         \n",
      "_________________________________________________________________\n",
      "dropout_13 (Dropout)         (None, 30, 64)            0         \n",
      "_________________________________________________________________\n",
      "flatten_7 (Flatten)          (None, 1920)              0         \n",
      "_________________________________________________________________\n",
      "dense_21 (Dense)             (None, 128)               245888    \n",
      "_________________________________________________________________\n",
      "dense_22 (Dense)             (None, 1)                 129       \n",
      "=================================================================\n",
      "Total params: 40,865,169\n",
      "Trainable params: 415,169\n",
      "Non-trainable params: 40,450,000\n",
      "_________________________________________________________________\n"
     ]
    }
   ],
   "source": [
    "cnn_model.summary()"
   ]
  },
  {
   "cell_type": "code",
   "execution_count": 261,
   "metadata": {
    "id": "hhapSwIU3R-U"
   },
   "outputs": [],
   "source": [
    "y = all_news.is_fake\n",
    "\n",
    "#Train-Test Split\n",
    "train_x, test_x, train_y, test_y = train_test_split(x, y, test_size=.2, random_state=42)\n",
    "#Train-validation Split  (train-70%, validation 10% and test 20%)\n",
    "train_x, val_x, train_y, val_y = train_test_split(train_x, train_y, test_size=.125, random_state=42)"
   ]
  },
  {
   "cell_type": "code",
   "execution_count": 262,
   "metadata": {
    "colab": {
     "base_uri": "https://localhost:8080/"
    },
    "id": "51XrivjQ2wTJ",
    "outputId": "0f6121f4-a966-4435-c2e0-b059c209de12"
   },
   "outputs": [
    {
     "name": "stdout",
     "output_type": "stream",
     "text": [
      "Epoch 1/2\n",
      "246/246 [==============================] - 212s 860ms/step - loss: 0.4029 - accuracy: 0.8326 - val_loss: 0.0680 - val_accuracy: 0.9815\n",
      "Epoch 2/2\n",
      "246/246 [==============================] - 211s 857ms/step - loss: 0.0681 - accuracy: 0.9767 - val_loss: 0.0397 - val_accuracy: 0.9864\n",
      "CPU times: user 13min 35s, sys: 4.98 s, total: 13min 40s\n",
      "Wall time: 7min 3s\n"
     ]
    },
    {
     "data": {
      "text/plain": [
       "<tensorflow.python.keras.callbacks.History at 0x7f6d6c5178d0>"
      ]
     },
     "execution_count": 262,
     "metadata": {
      "tags": []
     },
     "output_type": "execute_result"
    }
   ],
   "source": [
    "#Train the model \n",
    "%%time\n",
    "cnn_model.fit(train_x, train_y, batch_size = 128 , validation_data = (val_x,val_y) , epochs = 2)"
   ]
  },
  {
   "cell_type": "code",
   "execution_count": 263,
   "metadata": {
    "colab": {
     "base_uri": "https://localhost:8080/"
    },
    "id": "-3ewy5sXqtEU",
    "outputId": "f3a2ce44-67f5-48fd-f59d-b2a26917c1a2"
   },
   "outputs": [
    {
     "name": "stdout",
     "output_type": "stream",
     "text": [
      "              precision    recall  f1-score   support\n",
      "\n",
      "           0       0.99      0.98      0.98      4330\n",
      "           1       0.98      0.99      0.99      4650\n",
      "\n",
      "    accuracy                           0.99      8980\n",
      "   macro avg       0.99      0.98      0.99      8980\n",
      "weighted avg       0.99      0.99      0.99      8980\n",
      "\n"
     ]
    }
   ],
   "source": [
    "#Prediction\n",
    "cnn_pred = (cnn_model.predict(test_x) > 0.5).astype(\"int\")\n",
    "\n",
    "print(classification_report(test_y, cnn_pred))"
   ]
  },
  {
   "cell_type": "markdown",
   "metadata": {
    "id": "oD5J3UMc5n-b"
   },
   "source": [
    "# Model 3 (word2vec + CNN LSTM)\n"
   ]
  },
  {
   "cell_type": "code",
   "execution_count": 270,
   "metadata": {
    "id": "Anc9wee5ggCH"
   },
   "outputs": [],
   "source": [
    "#Set up the LSTM network\n",
    "lstm_model = Sequential()\n",
    "lstm_model.add(Embedding(vocab_size, output_dim=EMBEDDING_DIM, weights=[embedding_vectors], input_length=MAX_SEQUENCE_LENGTH, trainable=False))\n",
    "lstm_model.add(Conv1D(filters=128, kernel_size=5, activation='relu'))\n",
    "lstm_model.add(MaxPooling1D(4))\n",
    "lstm_model.add(Dropout(0.1))\n",
    "lstm_model.add(Conv1D(filters=64, kernel_size=5, activation='relu'))\n",
    "lstm_model.add(MaxPooling1D(4))\n",
    "lstm_model.add(Dropout(0.1))\n",
    "lstm_model.add(LSTM(units=64))\n",
    "lstm_model.add(Dense(1, activation='sigmoid'))\n",
    "lstm_model.compile(optimizer='adam', loss='binary_crossentropy', metrics=['accuracy'])"
   ]
  },
  {
   "cell_type": "code",
   "execution_count": 271,
   "metadata": {
    "colab": {
     "base_uri": "https://localhost:8080/"
    },
    "id": "iAo8SaLihJN3",
    "outputId": "92a8d446-0385-4bdd-fe03-9334af1e74d8"
   },
   "outputs": [
    {
     "name": "stdout",
     "output_type": "stream",
     "text": [
      "Model: \"sequential_17\"\n",
      "_________________________________________________________________\n",
      "Layer (type)                 Output Shape              Param #   \n",
      "=================================================================\n",
      "embedding_16 (Embedding)     (None, 500, 200)          40450000  \n",
      "_________________________________________________________________\n",
      "conv1d_23 (Conv1D)           (None, 496, 128)          128128    \n",
      "_________________________________________________________________\n",
      "max_pooling1d_21 (MaxPooling (None, 124, 128)          0         \n",
      "_________________________________________________________________\n",
      "dropout_16 (Dropout)         (None, 124, 128)          0         \n",
      "_________________________________________________________________\n",
      "conv1d_24 (Conv1D)           (None, 120, 64)           41024     \n",
      "_________________________________________________________________\n",
      "max_pooling1d_22 (MaxPooling (None, 30, 64)            0         \n",
      "_________________________________________________________________\n",
      "dropout_17 (Dropout)         (None, 30, 64)            0         \n",
      "_________________________________________________________________\n",
      "lstm_6 (LSTM)                (None, 64)                33024     \n",
      "_________________________________________________________________\n",
      "dense_24 (Dense)             (None, 1)                 65        \n",
      "=================================================================\n",
      "Total params: 40,652,241\n",
      "Trainable params: 202,241\n",
      "Non-trainable params: 40,450,000\n",
      "_________________________________________________________________\n"
     ]
    }
   ],
   "source": [
    "lstm_model.summary()"
   ]
  },
  {
   "cell_type": "code",
   "execution_count": 272,
   "metadata": {
    "colab": {
     "base_uri": "https://localhost:8080/"
    },
    "id": "_y1_jSXag-Ee",
    "outputId": "4eba444c-109b-4405-ea4b-d29b11c76b6b"
   },
   "outputs": [
    {
     "name": "stdout",
     "output_type": "stream",
     "text": [
      "Epoch 1/2\n",
      "246/246 [==============================] - 222s 895ms/step - loss: 0.2764 - accuracy: 0.8759 - val_loss: 0.0546 - val_accuracy: 0.9817\n",
      "Epoch 2/2\n",
      "246/246 [==============================] - 218s 885ms/step - loss: 0.0422 - accuracy: 0.9860 - val_loss: 0.0290 - val_accuracy: 0.9920\n",
      "CPU times: user 13min 59s, sys: 5.32 s, total: 14min 4s\n",
      "Wall time: 7min 19s\n"
     ]
    },
    {
     "data": {
      "text/plain": [
       "<tensorflow.python.keras.callbacks.History at 0x7f6d972b0e10>"
      ]
     },
     "execution_count": 272,
     "metadata": {
      "tags": []
     },
     "output_type": "execute_result"
    }
   ],
   "source": [
    "#Train the model \n",
    "%%time\n",
    "lstm_model.fit(train_x, train_y, batch_size = 128 , validation_data = (val_x,val_y) , epochs = 2)"
   ]
  },
  {
   "cell_type": "code",
   "execution_count": 273,
   "metadata": {
    "id": "tn1TBpHEiOxW"
   },
   "outputs": [],
   "source": [
    "lstm_pred = (lstm_model.predict(test_x) > 0.5).astype(\"int\")"
   ]
  },
  {
   "cell_type": "code",
   "execution_count": 274,
   "metadata": {
    "colab": {
     "base_uri": "https://localhost:8080/"
    },
    "id": "75eV118zlJNM",
    "outputId": "ede14632-cb93-4d56-ef82-93cb759e23fb"
   },
   "outputs": [
    {
     "name": "stdout",
     "output_type": "stream",
     "text": [
      "              precision    recall  f1-score   support\n",
      "\n",
      "           0       0.99      0.99      0.99      4330\n",
      "           1       0.99      0.99      0.99      4650\n",
      "\n",
      "    accuracy                           0.99      8980\n",
      "   macro avg       0.99      0.99      0.99      8980\n",
      "weighted avg       0.99      0.99      0.99      8980\n",
      "\n"
     ]
    }
   ],
   "source": [
    "print(classification_report(test_y, lstm_pred))"
   ]
  },
  {
   "cell_type": "markdown",
   "metadata": {
    "id": "Cjk0fKxz5n-b"
   },
   "source": [
    "# Summary"
   ]
  },
  {
   "cell_type": "markdown",
   "metadata": {
    "id": "9im4tbp22AD8"
   },
   "source": [
    "Here in this task, we have trained 3 classifcaiton models with two kinds of text processing setup:\n",
    "<br>\n",
    "1. TF-iDF processing + LightGBM\n",
    "2. word2vec processing + CNN\n",
    "3. word2vec processing + CNN LSTM"
   ]
  },
  {
   "cell_type": "markdown",
   "metadata": {
    "id": "pfmtlcY01tM9"
   },
   "source": [
    "Rationale for model 1:\n",
    "<br>\n",
    "In model 1, we chose TF-iDF processing, which is a technique to quantify a word  in news by computing the weights with respect to the news and the corpus. It is a common method in Text Mining. After quantifying, we used LightGBM to process the classification task. LightGBM is a framework designed for fast training speed and high efficiency, hence the running time of model 1 is significantly faster than model 2 and model 3."
   ]
  },
  {
   "cell_type": "markdown",
   "metadata": {
    "id": "K3ESTIHg5JnN"
   },
   "source": [
    "Rationale for model 2:\n",
    "<br>\n",
    "In this model, we used another text-processing setup, word2vec.  Word2vec is one kind of word-embedding which generates word vectors to capture semantic similarity, rather than just computing weight in TF-iDF. After processing, we used one type of  neural networks, CNN,to do the classification task. CNN usually works well on text and images."
   ]
  },
  {
   "cell_type": "markdown",
   "metadata": {
    "id": "Y2K5OE4l7pYS"
   },
   "source": [
    "Rationale for model 3:\n",
    "<br>\n",
    "The main addition element of model 3 is that LSTM  is being added. Therefore, the architecture of model 3 could be viewed as using CNN layer for feature extraction combined with LSTM to support the sequence prediction.\n"
   ]
  },
  {
   "cell_type": "markdown",
   "metadata": {
    "id": "6MRLtt_PHlkz"
   },
   "source": [
    "Result Summary (F1-score):\n",
    "<br>\n",
    "1. Model 1: 97%\n",
    "2. Modle 2: 99%\n",
    "3. Model 3: 99%"
   ]
  },
  {
   "cell_type": "code",
   "execution_count": 275,
   "metadata": {
    "colab": {
     "base_uri": "https://localhost:8080/",
     "height": 350
    },
    "id": "HYEHmaiZVpHH",
    "outputId": "27b22e3c-411c-48a9-9cfc-a8d8f67826a3"
   },
   "outputs": [
    {
     "data": {
      "image/png": "[encoded data removed]",
      "text/plain": [
       "<Figure size 1440x360 with 6 Axes>"
      ]
     },
     "metadata": {
      "needs_background": "light",
      "tags": []
     },
     "output_type": "display_data"
    }
   ],
   "source": [
    "fig, axes = plt.subplots(1, 3, figsize=(20, 5))\n",
    "sns.heatmap(confusion_matrix(test_y, predict_lgb), annot=True, cmap='Blues', fmt='g', ax=axes[0])\n",
    "axes[0].set(xlabel='Predicted', ylabel='True', title ='Model_1')\n",
    "sns.heatmap(confusion_matrix(test_y, cnn_pred), annot=True, cmap='Blues', fmt='g', ax=axes[1])\n",
    "axes[1].set(xlabel='Predicted', ylabel='True', title ='Model_2')\n",
    "sns.heatmap(confusion_matrix(test_y, lstm_pred), annot=True, cmap='Blues', fmt='g', ax=axes[2])\n",
    "axes[2].set(xlabel='Predicted', ylabel='True', title ='Model_3')\n",
    "\n",
    "plt.show()"
   ]
  },
  {
   "cell_type": "markdown",
   "metadata": {
    "id": "U0MuJf9IU80H"
   },
   "source": [
    "We could see that all 3 models perform well with this task. \n",
    "<br>\n",
    "In terms of training time, model 1 (TF-iDF processing + LightGBM) is the fastest one.\n",
    "<br>\n",
    "Meanwhile, the test result from Model 2 and Model 3 is  better than that from Model 1.\n",
    "\n",
    "<br>\n",
    "Therefore, if timing is a concern, model 1 could be the best option among these 3 models.\n",
    "<br>\n",
    "If we want to put more focus on semantic similarity as well as sequence, model 3 would be the best suitable one for further refinement."
   ]
  },
  {
   "cell_type": "code",
   "execution_count": 275,
   "metadata": {
    "id": "CYxY_LBqk4E4"
   },
   "outputs": [],
   "source": []
  }
 ],
 "metadata": {
  "colab": {
   "collapsed_sections": [],
   "name": "Part_2_NLP_modelling.ipynb",
   "provenance": [],
   "toc_visible": true
  },
  "kernelspec": {
   "display_name": "Python 3",
   "language": "python",
   "name": "python3"
  },
  "language_info": {
   "codemirror_mode": {
    "name": "ipython",
    "version": 3
   },
   "file_extension": ".py",
   "mimetype": "text/x-python",
   "name": "python",
   "nbconvert_exporter": "python",
   "pygments_lexer": "ipython3",
   "version": "3.8.5"
  }
 },
 "nbformat": 4,
 "nbformat_minor": 4
}
