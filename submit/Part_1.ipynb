{
 "cells": [
  {
   "cell_type": "code",
   "execution_count": 1,
   "metadata": {},
   "outputs": [],
   "source": [
    "# Library Import\n",
    "import pandas as pd"
   ]
  },
  {
   "cell_type": "code",
   "execution_count": 2,
   "metadata": {},
   "outputs": [],
   "source": [
    "# Data Load\n",
    "df = pd.read_pickle('../data/df_cases_200906.gzip') # go back to the parent directory and down to data folder \n",
    "label = pd.read_pickle('../data/df_label_200906.gzip')"
   ]
  },
  {
   "cell_type": "code",
   "execution_count": 3,
   "metadata": {},
   "outputs": [],
   "source": [
    "# Define a function to consider if each contract if valid or not\n",
    "# The reason for setting up a function instead of using lambda is that:\n",
    "# next time if we want to change the condition (e.g. setting Quality Score <0.71 instead)\n",
    "# amending a defined function would be more convenient and straightforward than amending a lambda function\n",
    "\n",
    "def check_valid (df):\n",
    "    if (df['IsExecuted'] == False) or (df['QualityScore'] <0.81):\n",
    "        return False\n",
    "    else:\n",
    "        return True"
   ]
  },
  {
   "cell_type": "code",
   "execution_count": 4,
   "metadata": {},
   "outputs": [],
   "source": [
    "# Usually we may use loc method or use direct naming  (e.g. df['Validity'])\n",
    "# But to avoid SettingWithCopyWarning , using assign could be the best method currently\n",
    "# Reference: https://stackoverflow.com/questions/12555323/adding-new-column-to-existing-dataframe-in-python-pandas/12555510#12555510\n",
    "\n",
    "df = df.assign(Validity=df.apply(check_valid, axis=1))"
   ]
  },
  {
   "cell_type": "code",
   "execution_count": 5,
   "metadata": {},
   "outputs": [],
   "source": [
    "# To collect the inforation we want\n",
    "\n",
    "# For ValidFileNames and InvalidFileNames\n",
    "# Grouping the files into valid and invalid file\n",
    "df_validfile = pd.DataFrame(df[df['Validity'] == True].groupby(['CaseId'])['FileName'].apply(list)).rename(columns={'FileName': \"ValidFileNames\"}).reset_index()\n",
    "df_invalidfile = pd.DataFrame(df[df['Validity'] == False].groupby(['CaseId'])['FileName'].apply(list)).rename(columns={'FileName': \"InvalidFileNames\"}).reset_index()\n",
    "df_combined = df_invalidfile.merge(df_validfile, on='CaseId', how='outer')\n",
    "# Fill in the NaN value with empty list (to align with the example shown)\n",
    "df_combined['InvalidFileNames'] = df_combined['InvalidFileNames'].fillna(\"\").apply(list)\n",
    "df_combined['ValidFileNames'] = df_combined['ValidFileNames'].fillna(\"\").apply(list)\n",
    "\n",
    "\n",
    "\n",
    "# For OcrText \n",
    "# concatentate all OcrText fields of all \"VALID\" contracts\n",
    "Valid_Ocr = df[df.Validity == True][['CaseId','OcrText']].groupby(['CaseId'])['OcrText'].apply(lambda x: ' '.join(x)).reset_index()\n",
    "\n",
    "# Merge the above dataframes\n",
    "combined = df_combined.merge(Valid_Ocr, how='outer', on=\"CaseId\")\n",
    "# Fill in the NaN value with blank (to align with the example shown)\n",
    "combined['OcrText'] = combined['OcrText'].fillna(\"\")\n",
    "\n",
    "# Merge with labels\n",
    "final_dataset = combined.merge(label, how='inner', on='CaseId').sort_values(by=['CaseId']).reset_index(drop=True)"
   ]
  },
  {
   "cell_type": "code",
   "execution_count": 6,
   "metadata": {},
   "outputs": [
    {
     "data": {
      "text/html": [
       "<div>\n",
       "<style scoped>\n",
       "    .dataframe tbody tr th:only-of-type {\n",
       "        vertical-align: middle;\n",
       "    }\n",
       "\n",
       "    .dataframe tbody tr th {\n",
       "        vertical-align: top;\n",
       "    }\n",
       "\n",
       "    .dataframe thead th {\n",
       "        text-align: right;\n",
       "    }\n",
       "</style>\n",
       "<table border=\"1\" class=\"dataframe\">\n",
       "  <thead>\n",
       "    <tr style=\"text-align: right;\">\n",
       "      <th></th>\n",
       "      <th>CaseId</th>\n",
       "      <th>InvalidFileNames</th>\n",
       "      <th>ValidFileNames</th>\n",
       "      <th>OcrText</th>\n",
       "      <th>label_1</th>\n",
       "      <th>label_2</th>\n",
       "    </tr>\n",
       "  </thead>\n",
       "  <tbody>\n",
       "    <tr>\n",
       "      <th>1093</th>\n",
       "      <td>003061230659</td>\n",
       "      <td>[003061230659_72651667_Order form_978-0-661-06636-2.pdf]</td>\n",
       "      <td>[]</td>\n",
       "      <td></td>\n",
       "      <td>True</td>\n",
       "      <td>False</td>\n",
       "    </tr>\n",
       "    <tr>\n",
       "      <th>1094</th>\n",
       "      <td>003061230710</td>\n",
       "      <td>[003061230710_80047544_other documents_978-1-02-279791-8.pdf, 003061230710_59256366_Order form_978-1-209-37083-5.pdf]</td>\n",
       "      <td>[]</td>\n",
       "      <td></td>\n",
       "      <td>True</td>\n",
       "      <td>False</td>\n",
       "    </tr>\n",
       "    <tr>\n",
       "      <th>1095</th>\n",
       "      <td>003061230728</td>\n",
       "      <td>[003061230728_79408066_Master contract_978-0-14-891566-4.pdf, 003061230728_56717174_Amendments_978-1-4471-4999-6.pdf]</td>\n",
       "      <td>[003061230728_74076581_Amendments_978-0-14-763189-3.pdf]</td>\n",
       "      <td>None attorney spend tend miss appear.</td>\n",
       "      <td>True</td>\n",
       "      <td>False</td>\n",
       "    </tr>\n",
       "    <tr>\n",
       "      <th>1096</th>\n",
       "      <td>003061230748</td>\n",
       "      <td>[003061230748_65193716_Contract Documents_978-0-9561206-8-7.pdf]</td>\n",
       "      <td>[]</td>\n",
       "      <td></td>\n",
       "      <td>True</td>\n",
       "      <td>False</td>\n",
       "    </tr>\n",
       "    <tr>\n",
       "      <th>1097</th>\n",
       "      <td>003061230757</td>\n",
       "      <td>[003061230757_84690982_other documents_978-0-10-551297-4.pdf]</td>\n",
       "      <td>[003061230757_72990476_Contract Documents_978-1-4943-5720-7.pdf]</td>\n",
       "      <td>Determine go network.</td>\n",
       "      <td>False</td>\n",
       "      <td>False</td>\n",
       "    </tr>\n",
       "  </tbody>\n",
       "</table>\n",
       "</div>"
      ],
      "text/plain": [
       "            CaseId  \\\n",
       "1093  003061230659   \n",
       "1094  003061230710   \n",
       "1095  003061230728   \n",
       "1096  003061230748   \n",
       "1097  003061230757   \n",
       "\n",
       "                                                                                                           InvalidFileNames  \\\n",
       "1093  [003061230659_72651667_Order form_978-0-661-06636-2.pdf]                                                                \n",
       "1094  [003061230710_80047544_other documents_978-1-02-279791-8.pdf, 003061230710_59256366_Order form_978-1-209-37083-5.pdf]   \n",
       "1095  [003061230728_79408066_Master contract_978-0-14-891566-4.pdf, 003061230728_56717174_Amendments_978-1-4471-4999-6.pdf]   \n",
       "1096  [003061230748_65193716_Contract Documents_978-0-9561206-8-7.pdf]                                                        \n",
       "1097  [003061230757_84690982_other documents_978-0-10-551297-4.pdf]                                                           \n",
       "\n",
       "                                                        ValidFileNames  \\\n",
       "1093  []                                                                 \n",
       "1094  []                                                                 \n",
       "1095  [003061230728_74076581_Amendments_978-0-14-763189-3.pdf]           \n",
       "1096  []                                                                 \n",
       "1097  [003061230757_72990476_Contract Documents_978-1-4943-5720-7.pdf]   \n",
       "\n",
       "                                    OcrText label_1 label_2  \n",
       "1093                                         True    False   \n",
       "1094                                         True    False   \n",
       "1095  None attorney spend tend miss appear.  True    False   \n",
       "1096                                         True    False   \n",
       "1097  Determine go network.                  False   False   "
      ]
     },
     "execution_count": 6,
     "metadata": {},
     "output_type": "execute_result"
    }
   ],
   "source": [
    "#For checking purpose\n",
    "pd.set_option('display.max_colwidth', 0)\n",
    "\n",
    "final_dataset.tail()"
   ]
  },
  {
   "cell_type": "code",
   "execution_count": 7,
   "metadata": {},
   "outputs": [],
   "source": [
    "#Export to gzip\n",
    "final_dataset.to_csv(\"df_final.gzip\", compression=\"gzip\")"
   ]
  },
  {
   "cell_type": "code",
   "execution_count": null,
   "metadata": {},
   "outputs": [],
   "source": []
  }
 ],
 "metadata": {
  "kernelspec": {
   "display_name": "python3.7",
   "language": "python",
   "name": "python3.7"
  },
  "language_info": {
   "codemirror_mode": {
    "name": "ipython",
    "version": 3
   },
   "file_extension": ".py",
   "mimetype": "text/x-python",
   "name": "python",
   "nbconvert_exporter": "python",
   "pygments_lexer": "ipython3",
   "version": "3.8.5"
  }
 },
 "nbformat": 4,
 "nbformat_minor": 4
}
